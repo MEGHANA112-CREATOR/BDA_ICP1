{
  "nbformat": 4,
  "nbformat_minor": 0,
  "metadata": {
    "colab": {
      "provenance": [],
      "authorship_tag": "ABX9TyOlPqsSIOZecLR6qZv/S0c+",
      "include_colab_link": true
    },
    "kernelspec": {
      "name": "python3",
      "display_name": "Python 3"
    },
    "language_info": {
      "name": "python"
    }
  },
  "cells": [
    {
      "cell_type": "markdown",
      "metadata": {
        "id": "view-in-github",
        "colab_type": "text"
      },
      "source": [
        "<a href=\"https://colab.research.google.com/github/MEGHANA112-CREATOR/BDA_ICP1/blob/main/ICP1.ipynb\" target=\"_parent\"><img src=\"https://colab.research.google.com/assets/colab-badge.svg\" alt=\"Open In Colab\"/></a>"
      ]
    },
    {
      "cell_type": "code",
      "execution_count": 1,
      "metadata": {
        "id": "wBvFa54oSOG_",
        "outputId": "c5a21d59-57e1-40ed-bf2c-2e01f856c784",
        "colab": {
          "base_uri": "https://localhost:8080/"
        }
      },
      "outputs": [
        {
          "output_type": "stream",
          "name": "stdout",
          "text": [
            "nhty\n"
          ]
        }
      ],
      "source": [
        "#INPUT STRING\n",
        "s=list(\"python\")\n",
        "\n",
        "#delete (p and o)\n",
        "s.remove('p')\n",
        "s.remove('o')\n",
        "\n",
        "#reverse\n",
        "s.reverse()\n",
        "\n",
        "#print\n",
        "result=\"\".join(s)\n",
        "print(result)"
      ]
    },
    {
      "cell_type": "code",
      "source": [],
      "metadata": {
        "id": "iIbkwkaPWf2o"
      },
      "execution_count": null,
      "outputs": []
    }
  ]
}