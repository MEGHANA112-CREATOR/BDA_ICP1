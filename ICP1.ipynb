{
  "nbformat": 4,
  "nbformat_minor": 0,
  "metadata": {
    "colab": {
      "provenance": [],
      "authorship_tag": "ABX9TyNO4InyZURj62Y7hux7i/fJ",
      "include_colab_link": true
    },
    "kernelspec": {
      "name": "python3",
      "display_name": "Python 3"
    },
    "language_info": {
      "name": "python"
    }
  },
  "cells": [
    {
      "cell_type": "markdown",
      "metadata": {
        "id": "view-in-github",
        "colab_type": "text"
      },
      "source": [
        "<a href=\"https://colab.research.google.com/github/MEGHANA112-CREATOR/BDA_ICP1/blob/main/ICP1.ipynb\" target=\"_parent\"><img src=\"https://colab.research.google.com/assets/colab-badge.svg\" alt=\"Open In Colab\"/></a>"
      ]
    },
    {
      "cell_type": "code",
      "execution_count": null,
      "metadata": {
        "id": "wBvFa54oSOG_",
        "outputId": "c5a21d59-57e1-40ed-bf2c-2e01f856c784",
        "colab": {
          "base_uri": "https://localhost:8080/"
        }
      },
      "outputs": [
        {
          "output_type": "stream",
          "name": "stdout",
          "text": [
            "nhty\n"
          ]
        }
      ],
      "source": [
        "#INPUT STRING\n",
        "s=list(\"python\")\n",
        "\n",
        "#delete (p and o)\n",
        "s.remove('p')\n",
        "s.remove('o')\n",
        "\n",
        "#reverse\n",
        "s.reverse()\n",
        "\n",
        "#print\n",
        "result=\"\".join(s)\n",
        "print(result)"
      ]
    },
    {
      "cell_type": "code",
      "source": [
        "# Take two numbers\n",
        "a = int(input(\"Enter first number: \"))\n",
        "b = int(input(\"Enter second number: \"))\n",
        "print(\"Addition:\", a + b)\n",
        "print(\"Subtraction:\", a - b)\n",
        "print(\"Multiplication:\", a * b)\n",
        "print(\"Division:\", a / b if b != 0 else \"Undefined\")\n"
      ],
      "metadata": {
        "id": "TuqGPisBYSL7",
        "outputId": "ee9e32e8-3917-4cb3-828c-85b1dd7896f3",
        "colab": {
          "base_uri": "https://localhost:8080/"
        }
      },
      "execution_count": 4,
      "outputs": [
        {
          "output_type": "stream",
          "name": "stdout",
          "text": [
            "Enter first number: 12\n",
            "Enter second number: 3\n",
            "Addition: 15\n",
            "Subtraction: 9\n",
            "Multiplication: 36\n",
            "Division: 4.0\n"
          ]
        }
      ]
    },
    {
      "cell_type": "code",
      "source": [
        "sentence = input(\"Enter a sentence: \")\n",
        "new_sentence = sentence.replace(\"python\", \"pythons\")\n",
        "print(new_sentence)\n"
      ],
      "metadata": {
        "id": "qAEu4zhaYsqR",
        "outputId": "93829301-0592-4414-d414-88a5b8acfae6",
        "colab": {
          "base_uri": "https://localhost:8080/"
        }
      },
      "execution_count": 5,
      "outputs": [
        {
          "output_type": "stream",
          "name": "stdout",
          "text": [
            "Enter a sentence: I love playing with python\n",
            "I love playing with pythons\n"
          ]
        }
      ]
    },
    {
      "cell_type": "code",
      "source": [
        "score = int(input(\"Enter class score: \"))\n",
        "if score >= 90:\n",
        "    grade = \"A\"\n",
        "elif score >= 80:\n",
        "    grade = \"B\"\n",
        "elif score >= 70:\n",
        "    grade = \"C\"\n",
        "elif score >= 60:\n",
        "    grade = \"D\"\n",
        "else:\n",
        "    grade = \"F\"\n",
        "print(\"Grade:\", grade)\n"
      ],
      "metadata": {
        "id": "rt3pWsYvY7XL",
        "outputId": "86d2744e-bb15-4323-a614-a16f238dc6dc",
        "colab": {
          "base_uri": "https://localhost:8080/"
        }
      },
      "execution_count": 6,
      "outputs": [
        {
          "output_type": "stream",
          "name": "stdout",
          "text": [
            "Enter class score: 94\n",
            "Grade: A\n"
          ]
        }
      ]
    },
    {
      "cell_type": "code",
      "source": [
        "x = [23, 'Python', 23.98]\n",
        "print(x)\n",
        "print([type(i) for i in x])\n"
      ],
      "metadata": {
        "id": "i4aH5kDEZMkT",
        "outputId": "e801a2ee-bc06-4884-9891-6d4e5e584b2a",
        "colab": {
          "base_uri": "https://localhost:8080/"
        }
      },
      "execution_count": 7,
      "outputs": [
        {
          "output_type": "stream",
          "name": "stdout",
          "text": [
            "[23, 'Python', 23.98]\n",
            "[<class 'int'>, <class 'str'>, <class 'float'>]\n"
          ]
        }
      ]
    },
    {
      "cell_type": "code",
      "source": [
        "IT_companies = {'Facebook', 'Google', 'Microsoft', 'Apple', 'IBM', 'Oracle', 'Amazon'}\n",
        "A = {19, 22, 24, 20, 25, 26}\n",
        "B = {19, 22, 20, 25, 26, 24, 28, 27}\n",
        "age = [22, 19, 24, 25, 26, 24, 25, 24]\n",
        "\n",
        "# Length of IT_companies\n",
        "print(\"Length:\", len(IT_companies))\n",
        "\n",
        "# Add single company\n",
        "IT_companies.add('Twitter')\n",
        "\n",
        "# Insert multiple companies\n",
        "IT_companies.update(['Tesla', 'Netflix'])\n",
        "print(\"After adding:\", IT_companies)\n",
        "\n",
        "# Remove a company\n",
        "IT_companies.remove('Google')\n",
        "# IT_companies.discard('Google')\n",
        "\n",
        "# Join A and B\n",
        "print(\"Union:\", A.union(B))\n",
        "\n",
        "# Intersection\n",
        "print(\"Intersection:\", A.intersection(B))\n",
        "\n",
        "# Subset\n",
        "print(\"A subset of B?\", A.issubset(B))\n",
        "\n",
        "# Disjoint sets\n",
        "print(\"A and B disjoint?\", A.isdisjoint(B))\n",
        "\n",
        "# Symmetric difference\n",
        "print(\"Symmetric difference:\", A.symmetric_difference(B))\n",
        "\n",
        "# Delete sets\n",
        "del A\n",
        "del B\n",
        "\n",
        "# Convert ages to set\n",
        "ages_set = set(age)\n",
        "print(\"Length of list:\", len(age))\n",
        "print(\"Length of set:\", len(ages_set))\n"
      ],
      "metadata": {
        "id": "eB5SfauCZZur",
        "outputId": "1419207f-ac13-415a-af6e-76dd16d86a02",
        "colab": {
          "base_uri": "https://localhost:8080/"
        }
      },
      "execution_count": 8,
      "outputs": [
        {
          "output_type": "stream",
          "name": "stdout",
          "text": [
            "Length: 7\n",
            "After adding: {'Facebook', 'Tesla', 'Oracle', 'Amazon', 'Google', 'Twitter', 'Apple', 'Netflix', 'IBM', 'Microsoft'}\n",
            "Union: {19, 20, 22, 24, 25, 26, 27, 28}\n",
            "Intersection: {19, 20, 22, 24, 25, 26}\n",
            "A subset of B? True\n",
            "A and B disjoint? False\n",
            "Symmetric difference: {27, 28}\n",
            "Length of list: 8\n",
            "Length of set: 5\n"
          ]
        }
      ]
    }
  ]
}